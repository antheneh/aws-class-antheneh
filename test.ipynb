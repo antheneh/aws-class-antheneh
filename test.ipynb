{
 "cells": [
  {
   "cell_type": "markdown",
   "id": "4018b69a",
   "metadata": {},
   "source": [
    "# Basic Addition, Subtraction, Multiplication and Divison"
   ]
  },
  {
   "cell_type": "code",
   "execution_count": 1,
   "id": "4ef009d8",
   "metadata": {},
   "outputs": [
    {
     "data": {
      "text/plain": [
       "6"
      ]
     },
     "execution_count": 1,
     "metadata": {},
     "output_type": "execute_result"
    }
   ],
   "source": [
    "4+2 "
   ]
  },
  {
   "cell_type": "code",
   "execution_count": 2,
   "id": "9efeefd2",
   "metadata": {},
   "outputs": [
    {
     "data": {
      "text/plain": [
       "10.5"
      ]
     },
     "execution_count": 2,
     "metadata": {},
     "output_type": "execute_result"
    }
   ],
   "source": [
    "21/2"
   ]
  },
  {
   "cell_type": "code",
   "execution_count": 3,
   "id": "fc70e973",
   "metadata": {},
   "outputs": [
    {
     "data": {
      "text/plain": [
       "45"
      ]
     },
     "execution_count": 3,
     "metadata": {},
     "output_type": "execute_result"
    }
   ],
   "source": [
    "9*5"
   ]
  },
  {
   "cell_type": "code",
   "execution_count": 4,
   "id": "8fe8ff9b",
   "metadata": {},
   "outputs": [
    {
     "data": {
      "text/plain": [
       "12"
      ]
     },
     "execution_count": 4,
     "metadata": {},
     "output_type": "execute_result"
    }
   ],
   "source": [
    "39-27"
   ]
  },
  {
   "cell_type": "code",
   "execution_count": 11,
   "id": "94f3faa1",
   "metadata": {},
   "outputs": [],
   "source": [
    "name= \"antheneh\""
   ]
  },
  {
   "cell_type": "code",
   "execution_count": 12,
   "id": "5ac9045d",
   "metadata": {},
   "outputs": [
    {
     "data": {
      "text/plain": [
       "'antheneh'"
      ]
     },
     "execution_count": 12,
     "metadata": {},
     "output_type": "execute_result"
    }
   ],
   "source": [
    "name"
   ]
  },
  {
   "cell_type": "code",
   "execution_count": 14,
   "id": "ff9cb36d",
   "metadata": {},
   "outputs": [],
   "source": [
    "myaddress= \"2103 chippewa\""
   ]
  },
  {
   "cell_type": "code",
   "execution_count": 15,
   "id": "3732ac93",
   "metadata": {},
   "outputs": [
    {
     "data": {
      "text/plain": [
       "'2103 chippewa'"
      ]
     },
     "execution_count": 15,
     "metadata": {},
     "output_type": "execute_result"
    }
   ],
   "source": [
    "myaddress"
   ]
  },
  {
   "cell_type": "markdown",
   "id": "6c60bdfa",
   "metadata": {},
   "source": [
    "# Variable"
   ]
  },
  {
   "cell_type": "markdown",
   "id": "f6b56467",
   "metadata": {},
   "source": [
    "We use them to store information"
   ]
  },
  {
   "cell_type": "code",
   "execution_count": 5,
   "id": "f37a0a74",
   "metadata": {},
   "outputs": [],
   "source": [
    "a= 2+2"
   ]
  },
  {
   "cell_type": "code",
   "execution_count": 6,
   "id": "92616feb",
   "metadata": {},
   "outputs": [
    {
     "data": {
      "text/plain": [
       "4"
      ]
     },
     "execution_count": 6,
     "metadata": {},
     "output_type": "execute_result"
    }
   ],
   "source": [
    "a"
   ]
  },
  {
   "cell_type": "code",
   "execution_count": 7,
   "id": "8dae0be1",
   "metadata": {},
   "outputs": [],
   "source": [
    "b= 9-4"
   ]
  },
  {
   "cell_type": "code",
   "execution_count": 16,
   "id": "12a1fce4",
   "metadata": {},
   "outputs": [
    {
     "data": {
      "text/plain": [
       "5"
      ]
     },
     "execution_count": 16,
     "metadata": {},
     "output_type": "execute_result"
    }
   ],
   "source": [
    "b"
   ]
  },
  {
   "cell_type": "markdown",
   "id": "5f1aa383",
   "metadata": {},
   "source": [
    "# function- definitions"
   ]
  },
  {
   "cell_type": "code",
   "execution_count": 19,
   "id": "a9b02adc",
   "metadata": {},
   "outputs": [],
   "source": [
    "def myf ():\n",
    "    print('hello i am inside myf function')"
   ]
  },
  {
   "cell_type": "code",
   "execution_count": 20,
   "id": "53c1896a",
   "metadata": {},
   "outputs": [
    {
     "data": {
      "text/plain": [
       "<function __main__.myf()>"
      ]
     },
     "execution_count": 20,
     "metadata": {},
     "output_type": "execute_result"
    }
   ],
   "source": [
    "myf"
   ]
  },
  {
   "cell_type": "code",
   "execution_count": 27,
   "id": "12f4fa93",
   "metadata": {},
   "outputs": [
    {
     "ename": "IndentationError",
     "evalue": "expected an indented block (Temp/ipykernel_18012/3837590942.py, line 2)",
     "output_type": "error",
     "traceback": [
      "\u001b[1;36m  File \u001b[1;32m\"C:\\Users\\jm499\\AppData\\Local\\Temp/ipykernel_18012/3837590942.py\"\u001b[1;36m, line \u001b[1;32m2\u001b[0m\n\u001b[1;33m    print(firstname + lastname)\u001b[0m\n\u001b[1;37m    ^\u001b[0m\n\u001b[1;31mIndentationError\u001b[0m\u001b[1;31m:\u001b[0m expected an indented block\n"
     ]
    }
   ],
   "source": [
    "def fullname (firstname, lastname):\n",
    "    print()"
   ]
  },
  {
   "cell_type": "code",
   "execution_count": null,
   "id": "323e57c8",
   "metadata": {},
   "outputs": [],
   "source": []
  }
 ],
 "metadata": {
  "kernelspec": {
   "display_name": "Python 3 (ipykernel)",
   "language": "python",
   "name": "python3"
  },
  "language_info": {
   "codemirror_mode": {
    "name": "ipython",
    "version": 3
   },
   "file_extension": ".py",
   "mimetype": "text/x-python",
   "name": "python",
   "nbconvert_exporter": "python",
   "pygments_lexer": "ipython3",
   "version": "3.9.6"
  }
 },
 "nbformat": 4,
 "nbformat_minor": 5
}
