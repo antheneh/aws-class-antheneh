{
 "cells": [
  {
   "cell_type": "markdown",
   "id": "4018b69a",
   "metadata": {},
   "source": [
    "# Basic Addition, Subtraction, Multiplication and Divison"
   ]
  },
  {
   "cell_type": "code",
   "execution_count": 1,
   "id": "4ef009d8",
   "metadata": {},
   "outputs": [
    {
     "data": {
      "text/plain": [
       "6"
      ]
     },
     "execution_count": 1,
     "metadata": {},
     "output_type": "execute_result"
    }
   ],
   "source": [
    "4+2 "
   ]
  },
  {
   "cell_type": "code",
   "execution_count": 2,
   "id": "9efeefd2",
   "metadata": {},
   "outputs": [
    {
     "data": {
      "text/plain": [
       "10.5"
      ]
     },
     "execution_count": 2,
     "metadata": {},
     "output_type": "execute_result"
    }
   ],
   "source": [
    "21/2"
   ]
  },
  {
   "cell_type": "code",
   "execution_count": 3,
   "id": "fc70e973",
   "metadata": {},
   "outputs": [
    {
     "data": {
      "text/plain": [
       "45"
      ]
     },
     "execution_count": 3,
     "metadata": {},
     "output_type": "execute_result"
    }
   ],
   "source": [
    "9*5"
   ]
  },
  {
   "cell_type": "code",
   "execution_count": 4,
   "id": "8fe8ff9b",
   "metadata": {},
   "outputs": [
    {
     "data": {
      "text/plain": [
       "12"
      ]
     },
     "execution_count": 4,
     "metadata": {},
     "output_type": "execute_result"
    }
   ],
   "source": [
    "39-27"
   ]
  },
  {
   "cell_type": "code",
   "execution_count": 11,
   "id": "94f3faa1",
   "metadata": {},
   "outputs": [],
   "source": [
    "name= \"antheneh\""
   ]
  },
  {
   "cell_type": "code",
   "execution_count": 12,
   "id": "5ac9045d",
   "metadata": {},
   "outputs": [
    {
     "data": {
      "text/plain": [
       "'antheneh'"
      ]
     },
     "execution_count": 12,
     "metadata": {},
     "output_type": "execute_result"
    }
   ],
   "source": [
    "name"
   ]
  },
  {
   "cell_type": "code",
   "execution_count": 14,
   "id": "ff9cb36d",
   "metadata": {},
   "outputs": [],
   "source": [
    "myaddress= \"2103 chippewa\""
   ]
  },
  {
   "cell_type": "code",
   "execution_count": 15,
   "id": "3732ac93",
   "metadata": {},
   "outputs": [
    {
     "data": {
      "text/plain": [
       "'2103 chippewa'"
      ]
     },
     "execution_count": 15,
     "metadata": {},
     "output_type": "execute_result"
    }
   ],
   "source": [
    "myaddress"
   ]
  },
  {
   "cell_type": "markdown",
   "id": "6c60bdfa",
   "metadata": {},
   "source": [
    "# Variable"
   ]
  },
  {
   "cell_type": "markdown",
   "id": "f6b56467",
   "metadata": {},
   "source": [
    "We use them to store information"
   ]
  },
  {
   "cell_type": "code",
   "execution_count": 5,
   "id": "f37a0a74",
   "metadata": {},
   "outputs": [],
   "source": [
    "a= 2+2"
   ]
  },
  {
   "cell_type": "code",
   "execution_count": 6,
   "id": "92616feb",
   "metadata": {},
   "outputs": [
    {
     "data": {
      "text/plain": [
       "4"
      ]
     },
     "execution_count": 6,
     "metadata": {},
     "output_type": "execute_result"
    }
   ],
   "source": [
    "a"
   ]
  },
  {
   "cell_type": "code",
   "execution_count": 7,
   "id": "8dae0be1",
   "metadata": {},
   "outputs": [],
   "source": [
    "b= 9-4"
   ]
  },
  {
   "cell_type": "code",
   "execution_count": 16,
   "id": "12a1fce4",
   "metadata": {},
   "outputs": [
    {
     "data": {
      "text/plain": [
       "5"
      ]
     },
     "execution_count": 16,
     "metadata": {},
     "output_type": "execute_result"
    }
   ],
   "source": [
    "b"
   ]
  },
  {
   "cell_type": "markdown",
   "id": "5f1aa383",
   "metadata": {},
   "source": [
    "# function- definitions"
   ]
  },
  {
   "cell_type": "code",
   "execution_count": 32,
   "id": "a9b02adc",
   "metadata": {},
   "outputs": [],
   "source": [
    "def myf ():\n",
    "    print('hello i am inside myf function')"
   ]
  },
  {
   "cell_type": "code",
   "execution_count": 44,
   "id": "53c1896a",
   "metadata": {},
   "outputs": [
    {
     "name": "stdout",
     "output_type": "stream",
     "text": [
      "hello i am inside myf function\n"
     ]
    }
   ],
   "source": [
    "myf ()"
   ]
  },
  {
   "cell_type": "markdown",
   "id": "8eda0a1e",
   "metadata": {},
   "source": [
    "# Exercise"
   ]
  },
  {
   "cell_type": "code",
   "execution_count": 74,
   "id": "97342c68",
   "metadata": {},
   "outputs": [],
   "source": [
    "def fullname ():\n",
    "    print ('antheneh meshesha')"
   ]
  },
  {
   "cell_type": "code",
   "execution_count": 75,
   "id": "6aa31a9d",
   "metadata": {},
   "outputs": [
    {
     "name": "stdout",
     "output_type": "stream",
     "text": [
      "antheneh meshesha\n"
     ]
    }
   ],
   "source": [
    "fullname ()"
   ]
  },
  {
   "cell_type": "code",
   "execution_count": null,
   "id": "76a9f1b9",
   "metadata": {},
   "outputs": [],
   "source": []
  },
  {
   "cell_type": "markdown",
   "id": "305ed990",
   "metadata": {},
   "source": [
    "# Python functions"
   ]
  },
  {
   "cell_type": "code",
   "execution_count": 67,
   "id": "6dab1a54",
   "metadata": {},
   "outputs": [],
   "source": [
    "name= \"antheneh\""
   ]
  },
  {
   "cell_type": "code",
   "execution_count": 68,
   "id": "9e50cce9",
   "metadata": {},
   "outputs": [
    {
     "data": {
      "text/plain": [
       "'antheneh'"
      ]
     },
     "execution_count": 68,
     "metadata": {},
     "output_type": "execute_result"
    }
   ],
   "source": [
    "name"
   ]
  },
  {
   "cell_type": "code",
   "execution_count": 69,
   "id": "4ee06ee4",
   "metadata": {},
   "outputs": [
    {
     "data": {
      "text/plain": [
       "8"
      ]
     },
     "execution_count": 69,
     "metadata": {},
     "output_type": "execute_result"
    }
   ],
   "source": [
    "len(name)"
   ]
  },
  {
   "cell_type": "code",
   "execution_count": 70,
   "id": "cd29c4e6",
   "metadata": {},
   "outputs": [
    {
     "data": {
      "text/plain": [
       "8"
      ]
     },
     "execution_count": 70,
     "metadata": {},
     "output_type": "execute_result"
    }
   ],
   "source": [
    "len (\"antheneh\")"
   ]
  },
  {
   "cell_type": "markdown",
   "id": "5bbe58c7",
   "metadata": {},
   "source": [
    "# conditional statement"
   ]
  },
  {
   "cell_type": "code",
   "execution_count": 16,
   "id": "f68fc7af",
   "metadata": {},
   "outputs": [
    {
     "ename": "IndentationError",
     "evalue": "unexpected indent (Temp/ipykernel_19768/3569181077.py, line 4)",
     "output_type": "error",
     "traceback": [
      "\u001b[1;36m  File \u001b[1;32m\"C:\\Users\\jm499\\AppData\\Local\\Temp/ipykernel_19768/3569181077.py\"\u001b[1;36m, line \u001b[1;32m4\u001b[0m\n\u001b[1;33m    or len(passd) > 14 :\u001b[0m\n\u001b[1;37m    ^\u001b[0m\n\u001b[1;31mIndentationError\u001b[0m\u001b[1;31m:\u001b[0m unexpected indent\n"
     ]
    }
   ],
   "source": [
    "def pwd(passd):\n",
    " if len(passd) < 8 :\n",
    "  Print (\"password length should be greater than 8 characters or more\")\n",
    "   if len(passd) > 14 :\n",
    " print (\"password length must not be greater than 14 characters\")\n",
    "    else :\n",
    "     print(\"successful\")"
   ]
  },
  {
   "cell_type": "code",
   "execution_count": 15,
   "id": "273667dc",
   "metadata": {},
   "outputs": [
    {
     "data": {
      "text/plain": [
       "'C:\\\\Users\\\\jm499\\\\OneDrive\\\\Documents\\\\AWS Class\\\\aws-class-antheneh'"
      ]
     },
     "execution_count": 15,
     "metadata": {},
     "output_type": "execute_result"
    }
   ],
   "source": [
    "pwd (\"tuesday\")"
   ]
  },
  {
   "cell_type": "code",
   "execution_count": 95,
   "id": "6652e266",
   "metadata": {},
   "outputs": [],
   "source": [
    "pwd(\"tuesday1ywcvuecvw8ecvw8e\")"
   ]
  },
  {
   "cell_type": "markdown",
   "id": "6b53ff3f",
   "metadata": {},
   "source": [
    "# exercise"
   ]
  },
  {
   "cell_type": "markdown",
   "id": "f5fed030",
   "metadata": {},
   "source": [
    "the function takes firstname and age \n",
    "you must substract 2 years from the age that is passed based on that implement the following\n",
    "there are two groups in the function: teenage and adult\n",
    "if the age is less than 18 add new teenage group else adult block\n",
    "if the age is greater than 70 add new senior group \n",
    "output example \"jhon belongs to senior group\"\n"
   ]
  },
  {
   "cell_type": "code",
   "execution_count": 118,
   "id": "f48c463a",
   "metadata": {},
   "outputs": [
    {
     "ename": "IndentationError",
     "evalue": "unexpected indent (Temp/ipykernel_11276/162837312.py, line 6)",
     "output_type": "error",
     "traceback": [
      "\u001b[1;36m  File \u001b[1;32m\"C:\\Users\\jm499\\AppData\\Local\\Temp/ipykernel_11276/162837312.py\"\u001b[1;36m, line \u001b[1;32m6\u001b[0m\n\u001b[1;33m    else :\u001b[0m\n\u001b[1;37m    ^\u001b[0m\n\u001b[1;31mIndentationError\u001b[0m\u001b[1;31m:\u001b[0m unexpected indent\n"
     ]
    }
   ],
   "source": [
    "def age(a):\n",
    "    \n",
    "    if age(a)< 18:\n",
    "        print (\"add to teenage group\")\n",
    "        if age(a) > 18:\n",
    "            print (\"add to adult group\")\n",
    "             else : print(\"add to senior group\")\n",
    "            "
   ]
  },
  {
   "cell_type": "code",
   "execution_count": 129,
   "id": "382c72a2",
   "metadata": {},
   "outputs": [],
   "source": [
    "def agegroup(name, age):\n",
    "    assumedeage = age -2\n",
    "    if (assumedage < 18):\n",
    "        print(name + \"belongs to teenage group\")\n",
    "    if (assumedage < 70 ):\n",
    "        print(name + \"belongs to adult group\")\n",
    "    else :\n",
    "        print(name + \"belongs to senior group\")"
   ]
  },
  {
   "cell_type": "code",
   "execution_count": 130,
   "id": "2100c16e",
   "metadata": {
    "scrolled": true
   },
   "outputs": [
    {
     "ename": "NameError",
     "evalue": "name 'assumedage' is not defined",
     "output_type": "error",
     "traceback": [
      "\u001b[1;31m---------------------------------------------------------------------------\u001b[0m",
      "\u001b[1;31mNameError\u001b[0m                                 Traceback (most recent call last)",
      "\u001b[1;32m~\\AppData\\Local\\Temp/ipykernel_11276/435151472.py\u001b[0m in \u001b[0;36m<module>\u001b[1;34m\u001b[0m\n\u001b[1;32m----> 1\u001b[1;33m \u001b[0magegroup\u001b[0m\u001b[1;33m(\u001b[0m\u001b[1;34m\"ant\"\u001b[0m\u001b[1;33m,\u001b[0m \u001b[1;36m11\u001b[0m\u001b[1;33m)\u001b[0m\u001b[1;33m\u001b[0m\u001b[1;33m\u001b[0m\u001b[0m\n\u001b[0m",
      "\u001b[1;32m~\\AppData\\Local\\Temp/ipykernel_11276/695275490.py\u001b[0m in \u001b[0;36magegroup\u001b[1;34m(name, age)\u001b[0m\n\u001b[0;32m      1\u001b[0m \u001b[1;32mdef\u001b[0m \u001b[0magegroup\u001b[0m\u001b[1;33m(\u001b[0m\u001b[0mname\u001b[0m\u001b[1;33m,\u001b[0m \u001b[0mage\u001b[0m\u001b[1;33m)\u001b[0m\u001b[1;33m:\u001b[0m\u001b[1;33m\u001b[0m\u001b[1;33m\u001b[0m\u001b[0m\n\u001b[0;32m      2\u001b[0m     \u001b[0massumedeage\u001b[0m \u001b[1;33m=\u001b[0m \u001b[0mage\u001b[0m \u001b[1;33m-\u001b[0m\u001b[1;36m2\u001b[0m\u001b[1;33m\u001b[0m\u001b[1;33m\u001b[0m\u001b[0m\n\u001b[1;32m----> 3\u001b[1;33m     \u001b[1;32mif\u001b[0m \u001b[1;33m(\u001b[0m\u001b[0massumedage\u001b[0m \u001b[1;33m<\u001b[0m \u001b[1;36m18\u001b[0m\u001b[1;33m)\u001b[0m\u001b[1;33m:\u001b[0m\u001b[1;33m\u001b[0m\u001b[1;33m\u001b[0m\u001b[0m\n\u001b[0m\u001b[0;32m      4\u001b[0m         \u001b[0mprint\u001b[0m\u001b[1;33m(\u001b[0m\u001b[0mname\u001b[0m \u001b[1;33m+\u001b[0m \u001b[1;34m\"belongs to teenage group\"\u001b[0m\u001b[1;33m)\u001b[0m\u001b[1;33m\u001b[0m\u001b[1;33m\u001b[0m\u001b[0m\n\u001b[0;32m      5\u001b[0m     \u001b[1;32mif\u001b[0m \u001b[1;33m(\u001b[0m\u001b[0massumedage\u001b[0m \u001b[1;33m<\u001b[0m \u001b[1;36m70\u001b[0m \u001b[1;33m)\u001b[0m\u001b[1;33m:\u001b[0m\u001b[1;33m\u001b[0m\u001b[1;33m\u001b[0m\u001b[0m\n",
      "\u001b[1;31mNameError\u001b[0m: name 'assumedage' is not defined"
     ]
    }
   ],
   "source": [
    "agegroup(\"ant\", 11)"
   ]
  },
  {
   "cell_type": "markdown",
   "id": "81852751",
   "metadata": {},
   "source": [
    "# comparision operators"
   ]
  },
  {
   "cell_type": "code",
   "execution_count": null,
   "id": "f56b4526",
   "metadata": {},
   "outputs": [],
   "source": [
    "equality operator == if you use = variable assignment "
   ]
  },
  {
   "cell_type": "code",
   "execution_count": 1,
   "id": "4eab6b4e",
   "metadata": {},
   "outputs": [
    {
     "data": {
      "text/plain": [
       "True"
      ]
     },
     "execution_count": 1,
     "metadata": {},
     "output_type": "execute_result"
    }
   ],
   "source": [
    "2 == 2"
   ]
  },
  {
   "cell_type": "code",
   "execution_count": 2,
   "id": "ef7b1a3a",
   "metadata": {},
   "outputs": [
    {
     "data": {
      "text/plain": [
       "False"
      ]
     },
     "execution_count": 2,
     "metadata": {},
     "output_type": "execute_result"
    }
   ],
   "source": [
    "2 == 3"
   ]
  },
  {
   "cell_type": "code",
   "execution_count": 3,
   "id": "def85f26",
   "metadata": {},
   "outputs": [
    {
     "data": {
      "text/plain": [
       "False"
      ]
     },
     "execution_count": 3,
     "metadata": {},
     "output_type": "execute_result"
    }
   ],
   "source": [
    "5 >= 6"
   ]
  },
  {
   "cell_type": "markdown",
   "id": "e9d2d636",
   "metadata": {},
   "source": [
    "#  data type checking "
   ]
  },
  {
   "cell_type": "code",
   "execution_count": 4,
   "id": "21ae61e0",
   "metadata": {},
   "outputs": [],
   "source": [
    "a = 'some name'"
   ]
  },
  {
   "cell_type": "code",
   "execution_count": 5,
   "id": "cc963e6c",
   "metadata": {},
   "outputs": [
    {
     "data": {
      "text/plain": [
       "str"
      ]
     },
     "execution_count": 5,
     "metadata": {},
     "output_type": "execute_result"
    }
   ],
   "source": [
    "type(a)"
   ]
  },
  {
   "cell_type": "code",
   "execution_count": 6,
   "id": "b6d67a90",
   "metadata": {},
   "outputs": [],
   "source": [
    "a= 2.04"
   ]
  },
  {
   "cell_type": "code",
   "execution_count": 7,
   "id": "90aefe63",
   "metadata": {},
   "outputs": [
    {
     "data": {
      "text/plain": [
       "float"
      ]
     },
     "execution_count": 7,
     "metadata": {},
     "output_type": "execute_result"
    }
   ],
   "source": [
    "type (a)"
   ]
  },
  {
   "cell_type": "code",
   "execution_count": 8,
   "id": "7cf5e47a",
   "metadata": {},
   "outputs": [],
   "source": [
    "groupA = ('apple','mango','orange')\n",
    "groupb = ['apple','mango','orange']"
   ]
  },
  {
   "cell_type": "code",
   "execution_count": 9,
   "id": "e9d04fe9",
   "metadata": {},
   "outputs": [
    {
     "data": {
      "text/plain": [
       "tuple"
      ]
     },
     "execution_count": 9,
     "metadata": {},
     "output_type": "execute_result"
    }
   ],
   "source": [
    "type(groupA)"
   ]
  },
  {
   "cell_type": "code",
   "execution_count": 10,
   "id": "5649d12a",
   "metadata": {},
   "outputs": [
    {
     "data": {
      "text/plain": [
       "list"
      ]
     },
     "execution_count": 10,
     "metadata": {},
     "output_type": "execute_result"
    }
   ],
   "source": [
    "type(groupb)"
   ]
  },
  {
   "cell_type": "code",
   "execution_count": 23,
   "id": "c19544de",
   "metadata": {},
   "outputs": [],
   "source": [
    "def pwd (passd):\n",
    "    if len (passd) < 8 :\n",
    "        Print (\"password length should be greater than 8 characters\") \n",
    "        if len (passd) > 14 : \n",
    "            Print (\"password length must not be greater than 14 characters\")\n",
    "            "
   ]
  },
  {
   "cell_type": "code",
   "execution_count": 1,
   "id": "231e98cd",
   "metadata": {},
   "outputs": [],
   "source": [
    "li=[1,2,3,\"a\",\"b\",\"c\"]"
   ]
  },
  {
   "cell_type": "code",
   "execution_count": 11,
   "id": "2c716ca7",
   "metadata": {},
   "outputs": [],
   "source": [
    "def myfn(arg):\n",
    "    li= [1,2,3,\"a\",\"b\",\"c\"]\n",
    "    for element in li:\n",
    "            if element == arg:\n",
    "                break \n",
    "            print('true')"
   ]
  },
  {
   "cell_type": "code",
   "execution_count": 15,
   "id": "95bd8b28",
   "metadata": {},
   "outputs": [
    {
     "name": "stdout",
     "output_type": "stream",
     "text": [
      "true\n",
      "true\n",
      "true\n",
      "true\n",
      "true\n",
      "true\n"
     ]
    }
   ],
   "source": [
    "myfn(li)"
   ]
  },
  {
   "cell_type": "code",
   "execution_count": null,
   "id": "94c4f3f0",
   "metadata": {},
   "outputs": [],
   "source": []
  }
 ],
 "metadata": {
  "kernelspec": {
   "display_name": "Python 3 (ipykernel)",
   "language": "python",
   "name": "python3"
  },
  "language_info": {
   "codemirror_mode": {
    "name": "ipython",
    "version": 3
   },
   "file_extension": ".py",
   "mimetype": "text/x-python",
   "name": "python",
   "nbconvert_exporter": "python",
   "pygments_lexer": "ipython3",
   "version": "3.9.6"
  }
 },
 "nbformat": 4,
 "nbformat_minor": 5
}
